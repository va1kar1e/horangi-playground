{
 "cells": [
  {
   "cell_type": "code",
   "execution_count": null,
   "metadata": {},
   "outputs": [],
   "source": [
    "import pandas as pd\n",
    "\n",
    "from pprint import pprint\n",
    "import pandas as pd\n",
    "\n",
    "import requests\n",
    "\n",
    "import os\n",
    "from dotenv import load_dotenv\n",
    "load_dotenv()"
   ]
  },
  {
   "cell_type": "code",
   "execution_count": null,
   "metadata": {},
   "outputs": [],
   "source": [
    "from horangi_authen import HorangiAuthentication\n",
    "\n",
    "HOSTNAME = HorangiAuthentication().getHostname()\n",
    "HEADER = HorangiAuthentication().getRequestHeader()"
   ]
  },
  {
   "cell_type": "code",
   "execution_count": null,
   "metadata": {},
   "outputs": [],
   "source": [
    "PROXIES = {\n",
    "    \"https\": os.getenv(\"PROXIES_HTTPS\")\n",
    "}"
   ]
  },
  {
   "cell_type": "markdown",
   "metadata": {},
   "source": [
    "# Get Compliance"
   ]
  },
  {
   "cell_type": "code",
   "execution_count": null,
   "metadata": {},
   "outputs": [],
   "source": [
    "PARAMS = {\n",
    "    \"severities\": \"low,medium,high,critical\", # \"informational\"\n",
    "    \"results\": \"fail\", # \"fail\" or \"pass\"\n",
    "    \"statuses\": \"open,needs_review\", # Suppressed => \"risk_accepted,false_positive,remediated\"\n",
    "    \"page_limit\": 100\n",
    "}"
   ]
  },
  {
   "cell_type": "code",
   "execution_count": null,
   "metadata": {},
   "outputs": [],
   "source": [
    "r = requests.get(HOSTNAME + \"/v1/cspm/checks\", params=PARAMS, headers=HEADER, proxies=PROXIES)\n",
    "if r.status_code == 200:\n",
    "    r = r.json()\n",
    "    results = r[\"data\"]\n",
    "    \n",
    "    while not r[\"links\"][\"next\"] is None:\n",
    "        r = requests.get(r[\"links\"][\"next\"], params=PARAMS, headers=HEADER, proxies=PROXIES)\n",
    "\n",
    "        if r.status_code == 200:\n",
    "            r = r.json()\n",
    "            results += r[\"data\"]"
   ]
  },
  {
   "cell_type": "code",
   "execution_count": null,
   "metadata": {},
   "outputs": [],
   "source": [
    "results_df = pd.DataFrame(results)"
   ]
  },
  {
   "cell_type": "code",
   "execution_count": null,
   "metadata": {},
   "outputs": [],
   "source": [
    "# results_df"
   ]
  },
  {
   "cell_type": "code",
   "execution_count": null,
   "metadata": {},
   "outputs": [],
   "source": [
    "all_attributes_df = pd.DataFrame(list(results_df[\"attributes\"]))\n",
    "all_relationships_df = pd.DataFrame(list(results_df[\"relationships\"]))\n",
    "\n",
    "results_df.drop([\"attributes\", \"relationships\"], axis=1, inplace=True)"
   ]
  },
  {
   "cell_type": "code",
   "execution_count": null,
   "metadata": {},
   "outputs": [],
   "source": [
    "result_tf_df = pd.concat([results_df,all_attributes_df, all_relationships_df], axis=1, join=\"inner\")"
   ]
  },
  {
   "cell_type": "code",
   "execution_count": null,
   "metadata": {},
   "outputs": [],
   "source": [
    "result_tf_df"
   ]
  },
  {
   "cell_type": "code",
   "execution_count": null,
   "metadata": {},
   "outputs": [],
   "source": [
    "# list(result_tf_df[\"scan\"])\n",
    "# list(result_tf_df[\"scan_group\"])\n",
    "# list(result_tf_df[\"rule\"])\n",
    "# list(result_tf_df[\"controls\"])"
   ]
  },
  {
   "cell_type": "code",
   "execution_count": null,
   "metadata": {
    "scrolled": true
   },
   "outputs": [],
   "source": []
  },
  {
   "cell_type": "code",
   "execution_count": null,
   "metadata": {},
   "outputs": [],
   "source": []
  },
  {
   "cell_type": "markdown",
   "metadata": {},
   "source": [
    "# Update Status Compliance"
   ]
  },
  {
   "cell_type": "code",
   "execution_count": null,
   "metadata": {},
   "outputs": [],
   "source": [
    "rule_ids = []"
   ]
  },
  {
   "cell_type": "code",
   "execution_count": null,
   "metadata": {},
   "outputs": [],
   "source": [
    "body = {\n",
    "    \"status\": \"risk_accepted\", # open, false_positive, remediated\n",
    "    \"status_remarks\": \"[Test] Status updated via POST endpoint\",\n",
    "#     \"expires_at\": \"2022-12-10\",\n",
    "#     \"severity\": \"high\",\n",
    "#     \"severity_remarks\": \"Severity updated via POST endpoint\",\n",
    "    \"ids\": rule_ids\n",
    "}"
   ]
  },
  {
   "cell_type": "code",
   "execution_count": null,
   "metadata": {},
   "outputs": [],
   "source": [
    "r = requests.post(HOSTNAME + \"/v1/cspm/vm/update\", params={}, headers=HEADER, proxies=PROXIES)\n",
    "if r.status_code == 200:\n",
    "    r = r.json()"
   ]
  },
  {
   "cell_type": "code",
   "execution_count": null,
   "metadata": {},
   "outputs": [],
   "source": [
    "r"
   ]
  }
 ],
 "metadata": {
  "kernelspec": {
   "display_name": "Python 3",
   "language": "python",
   "name": "python3"
  },
  "language_info": {
   "codemirror_mode": {
    "name": "ipython",
    "version": 3
   },
   "file_extension": ".py",
   "mimetype": "text/x-python",
   "name": "python",
   "nbconvert_exporter": "python",
   "pygments_lexer": "ipython3",
   "version": "3.8.3"
  }
 },
 "nbformat": 4,
 "nbformat_minor": 4
}
